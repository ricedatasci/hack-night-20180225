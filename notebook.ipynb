{
  "cells": [
    {
      "metadata": {
        "_uuid": "957fb4b49012f0e98c1ef6d9c7696e94c0ab2b46",
        "_cell_guid": "80b74a4b-186b-4f8f-a04b-04cf3a25db32"
      },
      "cell_type": "markdown",
      "source": "First we will cover the basics of the R programming language.\n\nBasic arithmetic can be performed by simplly typing the computation into the console.\nThe following operators are supported: +, -, *, /, ^ (exponentiation), %% (modulo)\n"
    },
    {
      "metadata": {
        "_uuid": "1e2af046269a37e9dbbefc7d17788c3947671144",
        "trusted": true,
        "_cell_guid": "3f7491bb-eabb-4c38-a979-246e281280f6"
      },
      "cell_type": "code",
      "source": "3 + 4",
      "execution_count": null,
      "outputs": []
    },
    {
      "metadata": {
        "_uuid": "69f9ba98b921343ac8f028e1665ccd28a1fb04c6",
        "_cell_guid": "04f52f49-8ef7-4dd8-8599-98ff30fc14c1"
      },
      "cell_type": "markdown",
      "source": "Variable Assignment\n The <- operator assigns a value to a variable\n You can then print the value by simply typing its name"
    },
    {
      "metadata": {
        "_uuid": "c4ff6d9335a1f40bf0bd2f1e6eacd6b8b5266ece",
        "trusted": true,
        "_cell_guid": "077ed4e4-1dd2-448f-9a2d-8015a59ad73f"
      },
      "cell_type": "code",
      "source": "var <- 5\nvar",
      "execution_count": null,
      "outputs": []
    },
    {
      "metadata": {
        "_uuid": "1d8e8f63bc276cfb287e9224f3d5ec08a4a90b2f",
        "trusted": true,
        "_cell_guid": "3b734efa-d6b1-49ec-b244-c6665ba11186"
      },
      "cell_type": "code",
      "source": "# Assign a value to the variables my_apples and my_oranges\nmy_apples  <- 5\nmy_oranges <- 6\n\n# Add these two variables together\nmy_apples + my_oranges\n\n# Create the variable my_fruit\nmy_fruit <- my_apples + my_oranges",
      "execution_count": null,
      "outputs": []
    },
    {
      "metadata": {
        "_uuid": "bba8209482a9fd75fceb41c611c31eabffea7c58",
        "_cell_guid": "1f65b61c-5051-4686-b778-14fe41f71a97"
      },
      "cell_type": "markdown",
      "source": "\nR works with numerous data types. Some of the most basic types to get started are:\n\n- Decimals values like `4.5` are called **numerics**.\n- Natural numbers like `4` are called **integers**. Integers are also numerics.\n- Boolean values (`TRUE` or `FALSE`) are called **logical**.\n- Text (or string) values are called **characters**."
    },
    {
      "metadata": {
        "_uuid": "8092b008bb3c9795b56df3cd95626589e88df68f",
        "trusted": true,
        "_cell_guid": "3eb7442d-4a39-4eb3-95e4-d8c5146ad1bd"
      },
      "cell_type": "code",
      "source": "# Change my_numeric to be 42\nmy_numeric <- 42.5\n\n# Change my_character to be \"universe\"\nmy_character <- \"some text\"\n\n# Change my_logical to be FALSE\nmy_logical <- TRUE\n\n# Check class of my_numeric\nclass(my_numeric)\n\n# Check class of my_character\nclass(my_character)\n\n# Check class of my_logical\nclass(my_logical)",
      "execution_count": null,
      "outputs": []
    },
    {
      "metadata": {
        "_uuid": "df33f70e75e3c6a59f2a2a79022a47246758f54c",
        "_cell_guid": "d59d0702-ff99-4a2c-8e91-11567464c661"
      },
      "cell_type": "markdown",
      "source": "Vectors are one-dimension arrays that can hold numeric data, character data, or logical data.\nIn R, you create a vector with the combine function c(). You place the vector elements separated by a comma between the parentheses."
    },
    {
      "metadata": {
        "_uuid": "d7084503592fa849d8d37223ab47e891d3bb6950",
        "trusted": true,
        "_cell_guid": "edc585b8-d4fc-47b6-bf3f-297fe25f59b4"
      },
      "cell_type": "code",
      "source": "numeric_vector <- c(1, 10, 49)\ncharacter_vector <- c(\"a\", \"b\", \"c\")\n\n# Complete the code for boolean_vector\nboolean_vector <-",
      "execution_count": null,
      "outputs": []
    },
    {
      "metadata": {
        "_uuid": "2115df672b8e11e372d054f95a0f8020d35e83c0",
        "_cell_guid": "04b76c73-3dea-4a02-a375-71134ab04c1e"
      },
      "cell_type": "markdown",
      "source": "It is important to know that if you sum two vectors in R, it takes the element-wise sum. For example, the following three statements are completely equivalent:"
    },
    {
      "metadata": {
        "_uuid": "ef58aa268c9851ca567b400e62bac381e651b6ba",
        "trusted": true,
        "_cell_guid": "3032b639-4750-4919-8bcf-3b706a9fcda0"
      },
      "cell_type": "code",
      "source": "c(1, 2, 3) + c(4, 5, 6)\nc(1 + 4, 2 + 5, 3 + 6)\nc(5, 7, 9)",
      "execution_count": null,
      "outputs": []
    },
    {
      "metadata": {
        "_uuid": "173ed5f97bfc5815f8738b237c87ee5614c63168",
        "_cell_guid": "ef69ee47-187f-414a-bd69-bd74cf017728"
      },
      "cell_type": "markdown",
      "source": "Factors\nThe term factor refers to a statistical data type used to store categorical variables. \nThis will be very useful when working with datasets with columns that represent categorical data.\n"
    },
    {
      "metadata": {
        "_uuid": "460b52fd75f60a0d8a70a56e6955179cb2ce4130",
        "trusted": true,
        "_cell_guid": "eb176d3b-70a4-4654-b160-b4e50616ff74"
      },
      "cell_type": "code",
      "source": "# Animals\nanimals_vector <- c(\"Elephant\", \"Giraffe\", \"Donkey\", \"Horse\")\nfactor_animals_vector <- factor(animals_vector)\nfactor_animals_vector\n\n# Temperature\ntemperature_vector <- c(\"High\", \"Low\", \"High\",\"Low\", \"Medium\")\nfactor_temperature_vector <- factor(temperature_vector, order = TRUE, levels = c(\"Low\", \"Medium\", \"High\"))\nfactor_temperature_vector",
      "execution_count": null,
      "outputs": []
    },
    {
      "metadata": {
        "_uuid": "05bb0604a21308166385c9be1db66fbeb302bb0f",
        "_cell_guid": "0f05e916-f38e-47c9-bcbf-d9f2f767ce2a"
      },
      "cell_type": "markdown",
      "source": "Importing Data:\nWe will use the **readr** package to import data into r"
    },
    {
      "metadata": {
        "_uuid": "231c437bb047e71bdce7a41aa338a264cf81adcb",
        "_cell_guid": "4285438f-60e4-4677-a31f-f7a36c73bad5"
      },
      "cell_type": "markdown",
      "source": "read_csv() reads comma delimited files,\nread_csv2() reads semicolon separated files ,\nread_tsv() reads tab delimited files, \nand read_delim() reads in files with any delimiter."
    },
    {
      "metadata": {
        "_uuid": "e6226b2283b5be802c84b23bcd8e3a0ba229c275",
        "trusted": true,
        "_cell_guid": "a29efdb3-b0ef-4e15-afa1-6975ac20ad57"
      },
      "cell_type": "code",
      "source": "library(readr)",
      "execution_count": 2,
      "outputs": []
    },
    {
      "metadata": {
        "_uuid": "cde07da7c2ea0beaf453a7c52b09ab0f64663136",
        "trusted": true,
        "_cell_guid": "9254c742-7f93-4c96-999e-72bdb7da89d8"
      },
      "cell_type": "code",
      "source": "iris_data <-read_csv('../input/iris.csv')",
      "execution_count": 5,
      "outputs": [
        {
          "output_type": "stream",
          "name": "stderr",
          "text": "Parsed with column specification:\ncols(\n  sepal_length = col_double(),\n  sepal_width = col_double(),\n  petal_length = col_double(),\n  petal_width = col_double(),\n  species = col_character()\n)\n"
        }
      ]
    },
    {
      "metadata": {
        "_uuid": "8676285c41ae0f875337c103eca2e31ffc477c9c",
        "trusted": true,
        "_cell_guid": "d5d6fc7d-b751-4952-931d-c818ad9cc9e2"
      },
      "cell_type": "markdown",
      "source": "Sometimes there are a few lines of metadata at the top of the file. You can use skip = n to skip the first n lines; or use comment = \"#\" to drop all lines that start with #."
    },
    {
      "metadata": {
        "trusted": true,
        "_uuid": "0bf7c5b384620521333d3d120e29f30c5829525f"
      },
      "cell_type": "code",
      "source": "read_csv(\"The first line of metadata\n  The second line of metadata\n  x,y,z\n  1,2,3\", skip = 2)\n\nread_csv(\"# A comment I want to skip\n  x,y,z\n  1,2,3\", comment = \"#\")\n",
      "execution_count": 7,
      "outputs": [
        {
          "output_type": "display_data",
          "data": {
            "text/plain": "  x y z\n1 1 2 3",
            "text/latex": "\\begin{tabular}{r|lll}\n x & y & z\\\\\n\\hline\n\t 1 & 2 & 3\\\\\n\\end{tabular}\n",
            "text/markdown": "\nx | y | z | \n|---|\n| 1 | 2 | 3 | \n\n\n",
            "text/html": "<table>\n<thead><tr><th scope=col>x</th><th scope=col>y</th><th scope=col>z</th></tr></thead>\n<tbody>\n\t<tr><td>1</td><td>2</td><td>3</td></tr>\n</tbody>\n</table>\n"
          },
          "metadata": {}
        },
        {
          "output_type": "display_data",
          "data": {
            "text/plain": "  x y z\n1 1 2 3",
            "text/latex": "\\begin{tabular}{r|lll}\n x & y & z\\\\\n\\hline\n\t 1 & 2 & 3\\\\\n\\end{tabular}\n",
            "text/markdown": "\nx | y | z | \n|---|\n| 1 | 2 | 3 | \n\n\n",
            "text/html": "<table>\n<thead><tr><th scope=col>x</th><th scope=col>y</th><th scope=col>z</th></tr></thead>\n<tbody>\n\t<tr><td>1</td><td>2</td><td>3</td></tr>\n</tbody>\n</table>\n"
          },
          "metadata": {}
        }
      ]
    },
    {
      "metadata": {
        "_uuid": "59b30e878ba3bcaae35e3bbe0e8d595592f0fdae"
      },
      "cell_type": "markdown",
      "source": "The data might not have column names. You can use col_names = FALSE to tell read_csv() not to treat the first row as headings, and instead label them sequentially from X1 to Xn:"
    },
    {
      "metadata": {
        "trusted": true,
        "_uuid": "f042c8a14b38b67c340e3dc3499ad76e634a4241"
      },
      "cell_type": "code",
      "source": "read_csv(\"1,2,3\\n4,5,6\", col_names = FALSE)\nread_csv(\"1,2,3\\n4,5,6\", col_names = c(\"x\", \"y\", \"z\"))",
      "execution_count": 9,
      "outputs": [
        {
          "output_type": "display_data",
          "data": {
            "text/plain": "  X1 X2 X3\n1 1  2  3 \n2 4  5  6 ",
            "text/latex": "\\begin{tabular}{r|lll}\n X1 & X2 & X3\\\\\n\\hline\n\t 1 & 2 & 3\\\\\n\t 4 & 5 & 6\\\\\n\\end{tabular}\n",
            "text/markdown": "\nX1 | X2 | X3 | \n|---|---|\n| 1 | 2 | 3 | \n| 4 | 5 | 6 | \n\n\n",
            "text/html": "<table>\n<thead><tr><th scope=col>X1</th><th scope=col>X2</th><th scope=col>X3</th></tr></thead>\n<tbody>\n\t<tr><td>1</td><td>2</td><td>3</td></tr>\n\t<tr><td>4</td><td>5</td><td>6</td></tr>\n</tbody>\n</table>\n"
          },
          "metadata": {}
        },
        {
          "output_type": "display_data",
          "data": {
            "text/plain": "  x y z\n1 1 2 3\n2 4 5 6",
            "text/latex": "\\begin{tabular}{r|lll}\n x & y & z\\\\\n\\hline\n\t 1 & 2 & 3\\\\\n\t 4 & 5 & 6\\\\\n\\end{tabular}\n",
            "text/markdown": "\nx | y | z | \n|---|---|\n| 1 | 2 | 3 | \n| 4 | 5 | 6 | \n\n\n",
            "text/html": "<table>\n<thead><tr><th scope=col>x</th><th scope=col>y</th><th scope=col>z</th></tr></thead>\n<tbody>\n\t<tr><td>1</td><td>2</td><td>3</td></tr>\n\t<tr><td>4</td><td>5</td><td>6</td></tr>\n</tbody>\n</table>\n"
          },
          "metadata": {}
        }
      ]
    },
    {
      "metadata": {
        "trusted": true,
        "_uuid": "cd6175ae16ffa975cc8af636d3761ba52463f378"
      },
      "cell_type": "code",
      "source": "",
      "execution_count": null,
      "outputs": []
    }
  ],
  "metadata": {
    "kernelspec": {
      "display_name": "R",
      "language": "R",
      "name": "ir"
    },
    "language_info": {
      "mimetype": "text/x-r-source",
      "name": "R",
      "pygments_lexer": "r",
      "version": "3.4.2",
      "file_extension": ".r",
      "codemirror_mode": "r"
    }
  },
  "nbformat": 4,
  "nbformat_minor": 1
}